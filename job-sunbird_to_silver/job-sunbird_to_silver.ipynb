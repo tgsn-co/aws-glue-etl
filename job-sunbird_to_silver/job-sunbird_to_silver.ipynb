{
	"metadata": {
		"kernelspec": {
			"name": "glue_pyspark",
			"display_name": "Glue PySpark",
			"language": "python"
		},
		"language_info": {
			"name": "Python_Glue_Session",
			"mimetype": "text/x-python",
			"codemirror_mode": {
				"name": "python",
				"version": 3
			},
			"pygments_lexer": "python3",
			"file_extension": ".py"
		}
	},
	"nbformat_minor": 4,
	"nbformat": 4,
	"cells": [
		{
			"cell_type": "markdown",
			"source": "# AWS Glue Studio Notebook\n##### You are now running a AWS Glue Studio notebook; To start using your notebook you need to start an AWS Glue Interactive Session.\n",
			"metadata": {
				"editable": true,
				"trusted": true
			}
		},
		{
			"cell_type": "markdown",
			"source": "#### Optional: Run this cell to see available notebook commands (\"magics\").\n",
			"metadata": {
				"editable": true,
				"trusted": true
			}
		},
		{
			"cell_type": "code",
			"source": "%%configure\n{\n   \"--datalake-formats\": \"iceberg\",\n    \"--conf\": \"spark.sql.extensions=org.apache.iceberg.spark.extensions.IcebergSparkSessionExtensions --conf spark.sql.catalog.glue_catalog=org.apache.iceberg.spark.SparkCatalog --conf spark.sql.catalog.glue_catalog.catalog-impl=org.apache.iceberg.aws.glue.GlueCatalog --conf spark.sql.catalog.glue_catalog.io-impl=org.apache.iceberg.aws.s3.S3FileIO --conf spark.sql.catalog.glue_catalog.warehouse=file:///tmp/spark-warehouse --conf spark.sql.defaultCatalog=glue_catalog\"\n}  ",
			"metadata": {
				"trusted": true,
				"tags": []
			},
			"execution_count": 2,
			"outputs": [
				{
					"name": "stdout",
					"text": "Welcome to the Glue Interactive Sessions Kernel\nFor more information on available magic commands, please type %help in any new cell.\n\nPlease view our Getting Started page to access the most up-to-date information on the Interactive Sessions kernel: https://docs.aws.amazon.com/glue/latest/dg/interactive-sessions.html\nInstalled kernel version: 1.0.7 \nThe following configurations have been updated: {'--datalake-formats': 'iceberg', '--conf': 'spark.sql.extensions=org.apache.iceberg.spark.extensions.IcebergSparkSessionExtensions --conf spark.sql.catalog.glue_catalog=org.apache.iceberg.spark.SparkCatalog --conf spark.sql.catalog.glue_catalog.catalog-impl=org.apache.iceberg.aws.glue.GlueCatalog --conf spark.sql.catalog.glue_catalog.io-impl=org.apache.iceberg.aws.s3.S3FileIO --conf spark.sql.catalog.glue_catalog.warehouse=file:///tmp/spark-warehouse --conf spark.sql.defaultCatalog=glue_catalog'}\n",
					"output_type": "stream"
				}
			]
		},
		{
			"cell_type": "markdown",
			"source": "####  Run this cell to set up and start your interactive session.\n",
			"metadata": {
				"editable": true,
				"trusted": true
			}
		},
		{
			"cell_type": "code",
			"source": "%idle_timeout 2880\n%glue_version 4.0\n%worker_type G.1X\n%number_of_workers 5\n\nimport sys\nfrom awsglue.transforms import *\nfrom awsglue.utils import getResolvedOptions\nfrom pyspark.context import SparkContext\nfrom awsglue.context import GlueContext\nfrom awsglue.job import Job\n\nfrom datetime import datetime\nimport pandas as pd\nfrom pyspark.sql.functions import to_timestamp\n\nsc = SparkContext.getOrCreate()\nglueContext = GlueContext(sc)\nspark = glueContext.spark_session\njob = Job(glueContext)",
			"metadata": {
				"trusted": true,
				"tags": []
			},
			"execution_count": 1,
			"outputs": [
				{
					"name": "stdout",
					"text": "Current idle_timeout is None minutes.\nidle_timeout has been set to 2880 minutes.\nSetting Glue version to: 4.0\nPrevious worker type: None\nSetting new worker type to: G.1X\nPrevious number of workers: None\nSetting new number of workers to: 5\nTrying to create a Glue session for the kernel.\nSession Type: glueetl\nWorker Type: G.1X\nNumber of Workers: 5\nIdle Timeout: 2880\nSession ID: 961b49ad-e285-4887-8d50-aaeecb7c5b12\nApplying the following default arguments:\n--glue_kernel_version 1.0.7\n--enable-glue-datacatalog true\n--datalake-formats iceberg\n--conf spark.sql.extensions=org.apache.iceberg.spark.extensions.IcebergSparkSessionExtensions --conf spark.sql.catalog.glue_catalog=org.apache.iceberg.spark.SparkCatalog --conf spark.sql.catalog.glue_catalog.catalog-impl=org.apache.iceberg.aws.glue.GlueCatalog --conf spark.sql.catalog.glue_catalog.io-impl=org.apache.iceberg.aws.s3.S3FileIO --conf spark.sql.catalog.glue_catalog.warehouse=file:///tmp/spark-warehouse --conf spark.sql.defaultCatalog=glue_catalog\nWaiting for session 961b49ad-e285-4887-8d50-aaeecb7c5b12 to get into ready status...\nSession 961b49ad-e285-4887-8d50-aaeecb7c5b12 has been created.\n\n",
					"output_type": "stream"
				}
			]
		},
		{
			"cell_type": "code",
			"source": "from datetime import datetime\nimport pandas as pd\nfrom pyspark.sql.functions import to_timestamp, to_date, col, when, lit",
			"metadata": {
				"trusted": true,
				"tags": []
			},
			"execution_count": 2,
			"outputs": [
				{
					"name": "stdout",
					"text": "\n",
					"output_type": "stream"
				}
			]
		},
		{
			"cell_type": "code",
			"source": "dyf_sunbird_tweets_bronze = glueContext.create_dynamic_frame.from_catalog(database=\"tgsn_bronze\", table_name=\"sunbird_x_tweets\", transformation_ctx=\"dyf_sunbird_bronze\")",
			"metadata": {
				"trusted": true,
				"tags": []
			},
			"execution_count": 3,
			"outputs": [
				{
					"name": "stdout",
					"text": "\n",
					"output_type": "stream"
				}
			]
		},
		{
			"cell_type": "code",
			"source": "dyf_sunbird_tweets_bronze.printSchema()",
			"metadata": {
				"trusted": true,
				"tags": []
			},
			"execution_count": 17,
			"outputs": [
				{
					"name": "stdout",
					"text": "root\n|-- tweet_id: string\n|-- target: string\n|-- source: string\n|-- author_id: string\n|-- tag: string\n|-- keyword: string\n|-- created_at: string\n|-- location: string\n|-- tweet_content: string\n|-- edit_history_tweet_ids: string\n|-- edit_controls_is_edit_eligible: string\n|-- edit_controls_editable_until: string\n|-- edit_controls_edits_remaining: string\n|-- conversation_id: string\n|-- note_tweet_text: string\n|-- in_reply_to_user_id: string\n|-- referenced_tweet_ids: string\n|-- referenced_tweet_types: string\n|-- media_keys: string\n|-- poll_duration_minutes: string\n|-- poll_end: string\n|-- poll_ids: string\n|-- poll_options: string\n|-- poll_voting_status: string\n|-- geo_place_id: string\n|-- geo_coordinates: string\n|-- entities_hashtags: string\n|-- entities_urls: string\n|-- entities_mentions: string\n|-- withheld_copyright: string\n|-- withheld_country_codes: string\n|-- public_metrics_retweet_count: string\n|-- public_metrics_reply_count: string\n|-- public_metrics_like_count: string\n|-- public_metrics_quote_count: string\n|-- public_metrics_impression_count: string\n|-- public_metrics_bookmark_count: string\n|-- possibly_sensitive: string\n|-- lang: string\n|-- reply_settings: string\n|-- source_app: string\n|-- place_id: string\n|-- place_contained_within: string\n|-- place_country: string\n|-- place_country_code: string\n|-- place_full_name: string\n|-- place_geo: string\n|-- place_name: string\n|-- place_type: string\n|-- collection_date: string\n",
					"output_type": "stream"
				}
			]
		},
		{
			"cell_type": "code",
			"source": "df_sunbird_tweets_bronze = dyf_sunbird_tweets_bronze.toDF()",
			"metadata": {
				"trusted": true,
				"tags": []
			},
			"execution_count": 4,
			"outputs": [
				{
					"name": "stdout",
					"text": "/opt/amazon/spark/python/lib/pyspark.zip/pyspark/sql/dataframe.py:127: UserWarning: DataFrame constructor is internal. Do not directly use it.\n",
					"output_type": "stream"
				}
			]
		},
		{
			"cell_type": "code",
			"source": "for column in df_sunbird_tweets_bronze.columns:\n    df_sunbird_tweets_bronze = \\\n    df_sunbird_tweets_bronze.withColumn(column, \\\n                                        when(df_sunbird_tweets_bronze[f'{column}']=='' ,None) \\\n                                        .otherwise(df_sunbird_tweets_bronze[f'{column}']))",
			"metadata": {
				"trusted": true,
				"tags": []
			},
			"execution_count": 5,
			"outputs": [
				{
					"name": "stdout",
					"text": "\n",
					"output_type": "stream"
				}
			]
		},
		{
			"cell_type": "code",
			"source": "empty_col = []\nalmost_empty_col = []\nthreshold = 0.1\n\ntotal_count = df_sunbird_tweets_bronze.count()\nfor column in df_sunbird_tweets_bronze.columns:\n    cnt = df_sunbird_tweets_bronze.where(df_sunbird_tweets_bronze[f'{column}'].isNotNull()).count()\n    if cnt == 0:\n        empty_col.append(column)\n    elif cnt/total_count < threshold:\n        almost_empty_col.append(column)\n\nprint(f'Empty columns: {empty_col}')\nprint(f'-------------')\nprint(f'Almost empty columns: {almost_empty_col}')",
			"metadata": {
				"trusted": true,
				"tags": []
			},
			"execution_count": 15,
			"outputs": [
				{
					"name": "stdout",
					"text": "Empty columns: ['poll_duration_minutes', 'poll_end', 'poll_ids', 'poll_options', 'poll_voting_status', 'geo_coordinates', 'withheld_copyright', 'withheld_country_codes', 'source_app', 'place_contained_within', 'place_country', 'place_country_code', 'place_full_name', 'place_name', 'place_type']\n-------------\nAlmost empty columns: ['note_tweet_text', 'media_keys', 'geo_place_id', 'entities_hashtags', 'entities_urls', 'place_id']\n",
					"output_type": "stream"
				}
			]
		},
		{
			"cell_type": "code",
			"source": "# Create or replace table\ndf_sunbird_tweets_bronze.writeTo(\"glue_catalog.tgsn_silver.sunbird_x_tweets\") \\\n        .tableProperty(\"format-version\", \"2\") \\\n        .tableProperty(\"location\", \"s3://tgsn-silver-bucket/sunbird/x/tweets/tgsn_silver/sunbird_x_tweets\") \\\n        .tableProperty(\"write.parquet.compression-codec\", \"gzip\") \\\n        .options(**additional_options) \\\n        .partitionedBy(\"collection_date\") \\\n.createOrReplace()",
			"metadata": {
				"trusted": true,
				"tags": []
			},
			"execution_count": 9,
			"outputs": [
				{
					"name": "stdout",
					"text": "\n",
					"output_type": "stream"
				}
			]
		}
	]
}