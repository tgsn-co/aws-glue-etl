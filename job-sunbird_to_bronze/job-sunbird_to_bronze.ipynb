{
	"metadata": {
		"kernelspec": {
			"name": "glue_pyspark",
			"display_name": "Glue PySpark",
			"language": "python"
		},
		"language_info": {
			"name": "Python_Glue_Session",
			"mimetype": "text/x-python",
			"codemirror_mode": {
				"name": "python",
				"version": 3
			},
			"pygments_lexer": "python3",
			"file_extension": ".py"
		}
	},
	"nbformat_minor": 4,
	"nbformat": 4,
	"cells": [
		{
			"cell_type": "markdown",
			"source": "# AWS Glue Studio Notebook\n##### You are now running a AWS Glue Studio notebook; To start using your notebook you need to start an AWS Glue Interactive Session.\n",
			"metadata": {
				"editable": true,
				"trusted": true
			}
		},
		{
			"cell_type": "markdown",
			"source": "####  Run this cell to set up and start your interactive session.\n",
			"metadata": {
				"editable": true,
				"trusted": true
			}
		},
		{
			"cell_type": "code",
			"source": "%idle_timeout 2880\n%glue_version 4.0\n%worker_type G.1X\n%number_of_workers 5\n\nimport sys\nfrom awsglue.transforms import *\nfrom awsglue.utils import getResolvedOptions\nfrom pyspark.context import SparkContext\nfrom awsglue.context import GlueContext\nfrom awsglue.job import Job\n\nfrom datetime import datetime\nimport pandas as pd\nfrom pyspark.sql.functions import to_timestamp, to_date, col, when, lit\nfrom awsglue.dynamicframe import DynamicFrame\n\nsc = SparkContext.getOrCreate()\nglueContext = GlueContext(sc)\nspark = glueContext.spark_session\njob = Job(glueContext)",
			"metadata": {
				"trusted": true,
				"editable": true
			},
			"execution_count": 1,
			"outputs": [
				{
					"name": "stdout",
					"text": "Welcome to the Glue Interactive Sessions Kernel\nFor more information on available magic commands, please type %help in any new cell.\n\nPlease view our Getting Started page to access the most up-to-date information on the Interactive Sessions kernel: https://docs.aws.amazon.com/glue/latest/dg/interactive-sessions.html\nInstalled kernel version: 1.0.7 \nCurrent idle_timeout is None minutes.\nidle_timeout has been set to 2880 minutes.\nSetting Glue version to: 4.0\nPrevious worker type: None\nSetting new worker type to: G.1X\nPrevious number of workers: None\nSetting new number of workers to: 5\nTrying to create a Glue session for the kernel.\nSession Type: glueetl\nWorker Type: G.1X\nNumber of Workers: 5\nIdle Timeout: 2880\nSession ID: 946a69eb-bed3-4599-837c-e58c94be1a77\nApplying the following default arguments:\n--glue_kernel_version 1.0.7\n--enable-glue-datacatalog true\nWaiting for session 946a69eb-bed3-4599-837c-e58c94be1a77 to get into ready status...\nSession 946a69eb-bed3-4599-837c-e58c94be1a77 has been created.\n\n",
					"output_type": "stream"
				}
			]
		},
		{
			"cell_type": "code",
			"source": "# Read CSV files from Sunbird X Tweets\ndyf_sunbird_tweets_landing = glueContext.create_dynamic_frame.from_options(\n    format_options={\"quoteChar\": \"\\\"\", \"withHeader\": True, \"separator\": \",\"}, \n    connection_type=\"s3\", format=\"csv\", \n    connection_options={\"paths\": [\"s3://tgsn-landing/sunbird/x/tweets/\"], \"recurse\": True}, \n    transformation_ctx=\"dyf_kobo_landing\")\n\n# Read CSV files from Sunbird X Users\ndyf_sunbird_users_landing = glueContext.create_dynamic_frame.from_options(\n    format_options={\"quoteChar\": \"\\\"\", \"withHeader\": True, \"separator\": \",\"}, \n    connection_type=\"s3\", format=\"csv\", \n    connection_options={\"paths\": [\"s3://tgsn-landing/sunbird/x/users/\"], \"recurse\": True}, \n    transformation_ctx=\"dyf_kobo_landing\")",
			"metadata": {
				"trusted": true,
				"tags": []
			},
			"execution_count": 33,
			"outputs": [
				{
					"name": "stdout",
					"text": "\n",
					"output_type": "stream"
				}
			]
		},
		{
			"cell_type": "code",
			"source": "#dyf_sunbird_tweets_landing.count()\n\n# 472215",
			"metadata": {
				"trusted": true,
				"tags": []
			},
			"execution_count": 6,
			"outputs": []
		},
		{
			"cell_type": "code",
			"source": "#dyf_sunbird_users_landing.count()\n\n# 413269",
			"metadata": {
				"trusted": true,
				"tags": []
			},
			"execution_count": 7,
			"outputs": []
		},
		{
			"cell_type": "code",
			"source": "df_sunbird_tweets.printSchema()",
			"metadata": {
				"trusted": true,
				"tags": []
			},
			"execution_count": 50,
			"outputs": [
				{
					"name": "stdout",
					"text": "root\n |-- tweet_id: string (nullable = true)\n |-- target: string (nullable = true)\n |-- source: string (nullable = true)\n |-- author_id: string (nullable = true)\n |-- tag: string (nullable = true)\n |-- keyword: string (nullable = true)\n |-- created_at: string (nullable = true)\n |-- location: string (nullable = true)\n |-- tweet_content: string (nullable = true)\n |-- edit_history_tweet_ids: string (nullable = true)\n |-- edit_controls_is_edit_eligible: string (nullable = true)\n |-- edit_controls_editable_until: string (nullable = true)\n |-- edit_controls_edits_remaining: string (nullable = true)\n |-- conversation_id: string (nullable = true)\n |-- note_tweet_text: string (nullable = true)\n |-- in_reply_to_user_id: string (nullable = true)\n |-- referenced_tweet_ids: string (nullable = true)\n |-- referenced_tweet_types: string (nullable = true)\n |-- media_keys: string (nullable = true)\n |-- poll_duration_minutes: string (nullable = true)\n |-- poll_end: string (nullable = true)\n |-- poll_ids: string (nullable = true)\n |-- poll_options: string (nullable = true)\n |-- poll_voting_status: string (nullable = true)\n |-- geo_place_id: string (nullable = true)\n |-- geo_coordinates: string (nullable = true)\n |-- entities_hashtags: string (nullable = true)\n |-- entities_urls: string (nullable = true)\n |-- entities_mentions: string (nullable = true)\n |-- withheld_copyright: string (nullable = true)\n |-- withheld_country_codes: string (nullable = true)\n |-- public_metrics_retweet_count: string (nullable = true)\n |-- public_metrics_reply_count: string (nullable = true)\n |-- public_metrics_like_count: string (nullable = true)\n |-- public_metrics_quote_count: string (nullable = true)\n |-- public_metrics_impression_count: string (nullable = true)\n |-- public_metrics_bookmark_count: string (nullable = true)\n |-- possibly_sensitive: string (nullable = true)\n |-- lang: string (nullable = true)\n |-- reply_settings: string (nullable = true)\n |-- source_app: string (nullable = true)\n |-- place_id: string (nullable = true)\n |-- place_contained_within: string (nullable = true)\n |-- place_country: string (nullable = true)\n |-- place_country_code: string (nullable = true)\n |-- place_full_name: string (nullable = true)\n |-- place_geo: string (nullable = true)\n |-- place_name: string (nullable = true)\n |-- place_type: string (nullable = true)\n |-- collection_date: string (nullable = false)\n",
					"output_type": "stream"
				}
			]
		},
		{
			"cell_type": "markdown",
			"source": "#### Convert the DynamicFrame to a Spark DataFrame\n",
			"metadata": {
				"editable": true,
				"trusted": true
			}
		},
		{
			"cell_type": "code",
			"source": "df_sunbird_tweets = dyf_sunbird_tweets_landing.toDF()\n\ndf_sunbird_users = dyf_sunbird_users_landing.toDF()",
			"metadata": {
				"trusted": true,
				"editable": true
			},
			"execution_count": 35,
			"outputs": [
				{
					"name": "stdout",
					"text": "\n",
					"output_type": "stream"
				}
			]
		},
		{
			"cell_type": "code",
			"source": "df_sunbird_tweets = df_sunbird_tweets.drop(df_sunbird_tweets.columns[49])",
			"metadata": {
				"trusted": true,
				"tags": []
			},
			"execution_count": 42,
			"outputs": [
				{
					"name": "stdout",
					"text": "\n",
					"output_type": "stream"
				}
			]
		},
		{
			"cell_type": "code",
			"source": "len(df_sunbird_tweets.columns)",
			"metadata": {
				"trusted": true,
				"tags": []
			},
			"execution_count": 43,
			"outputs": [
				{
					"name": "stdout",
					"text": "49\n",
					"output_type": "stream"
				}
			]
		},
		{
			"cell_type": "code",
			"source": "df_sunbird_tweets.show()",
			"metadata": {
				"trusted": true,
				"tags": []
			},
			"execution_count": null,
			"outputs": []
		},
		{
			"cell_type": "code",
			"source": "df_sunbird_tweets.where(\"tweet_content like '%/n %'\").select('tweet_id','tweet_content').show(10, False)",
			"metadata": {
				"trusted": true,
				"tags": []
			},
			"execution_count": 37,
			"outputs": [
				{
					"name": "stdout",
					"text": "+-------------------+---------------------------------------------------------------------------------------------------------------------------------------------------------------------------------------------------------------------------------------------------------------------------------------------------------------------+\n|tweet_id           |tweet_content                                                                                                                                                                                                                                                                                                        |\n+-------------------+---------------------------------------------------------------------------------------------------------------------------------------------------------------------------------------------------------------------------------------------------------------------------------------------------------------------+\n|1869085657471361257|@UNRWA Tim Skellett в X: «1/n Let's deal with a few *facts* here. On 10/6 2023, 06. October, the Gaza ... https://t.co/DgUUvEIRWr»                                                                                                                                                                                   |\n|1868867262306042114|Typo correction: In 3/n I meant to type in Qatar in place of jeddah. So it should read Qatar/Bahrain\\n\\nI also believe a regionally divided calendar is much more environment friendly.\\n\\n7/n.                                                                                                                      |\n|1855258130948464959|Qatar has ended its role as mediator b/n Israel &amp; Hamas, a diplo familiar tells @TimesofIsrael.  \\n\\nThe diplo confirms yesterday's revelation by US that Doha had told Hamas officials late last month to leave, but appears to deny that decision was made due to request from US (1/8) https://t.co/HQwDdGwGSa|\n|1859117798389080286|@Otabek_Salimov1 @Jamolbobo1 Qatar b/n õyin ikkinchi taymidayam kōrinmadimi taktika?                                                                                                                                                                                                                                 |\n|1862920499665178798|@UNRWA @UNWateridge @CNN Tim Skellett в X: «1/n Let's deal with a few *facts* here.  https://t.co/DgUUvEIk6T                                                                                                                                                                                                         |\n|1861992768786284970|ok im in qatar! wheres max so i can pretend to bump into him and not know who he is and live that y/n life                                                                                                                                                                                                           |\n|1862548722439131357|Which countries are supporting terrorism against Syrian people?\\n\\n- Turkey\\n- Israel\\n- USA + Western countries\\n- Saudia Arabia\\n- Qatar\\n\\nFuck Turkey.\\n\\n3/n https://t.co/YJRKjv7Fvo                                                                                                                            |\n|1856064597268009332|1/n US-Abgeordneter Andy Ogles (R-Tenn) unterstützt Gesetzentwurf, der Qatar den Status als wichtiger Verbündeter der USA entziehen würde, sofern es nicht die Hamasführung rauswirft. Während ihre Leute in Armut leben, genießen die Führer den Luxus in Katar\\nhttps://t.co/Xc3c7GodmL https://t.co/etKIaiQYD0    |\n|1855616885175234630|1/n  Let's deal with a few *facts* here. On 10/6 2023, 06. October, the Gaza Strip was self-governing. It had a higher standard of living than the Egyptians bordering the southern Gazan border. Its rulers were billionaires. Hamas *owned* ≈10% of all land.\\nhttps://t.co/57iS6OckIu                             |\n|1871094933198618845|3/n Au Proche-Orient, l'espoir revient pour la libération des otages. Les négociations ont repris au Qatar. Mais, même si des preuves de vie de certains ont été fournies, je n'en parlerai pas tant que rien n'est officiel.\\n https://t.co/WsEdq0sywp via @timesofisrael                                           |\n+-------------------+---------------------------------------------------------------------------------------------------------------------------------------------------------------------------------------------------------------------------------------------------------------------------------------------------------------------+\nonly showing top 10 rows\n",
					"output_type": "stream"
				}
			]
		},
		{
			"cell_type": "code",
			"source": "df_sunbird_tweets.select(df_sunbird_tweets.columns[48]).show(5)",
			"metadata": {
				"trusted": true,
				"tags": []
			},
			"execution_count": 49,
			"outputs": [
				{
					"name": "stdout",
					"text": "+----------+\n|place_type|\n+----------+\n|          |\n|          |\n|          |\n|          |\n|          |\n+----------+\nonly showing top 5 rows\n",
					"output_type": "stream"
				}
			]
		},
		{
			"cell_type": "code",
			"source": "df_sunbird_tweets = df_sunbird_tweets.withColumn(\"collection_date\", lit(datetime.today().strftime('%Y-%m-%d')))\n\ndf_sunbird_users = df_sunbird_users.withColumn(\"collection_date\", lit(datetime.today().strftime('%Y-%m-%d')))",
			"metadata": {
				"trusted": true,
				"tags": []
			},
			"execution_count": 46,
			"outputs": [
				{
					"name": "stdout",
					"text": "\n",
					"output_type": "stream"
				}
			]
		},
		{
			"cell_type": "markdown",
			"source": "#### Write the data in the DynamicFrame to a location in Amazon S3 and a table for it in the AWS Glue Data Catalog",
			"metadata": {
				"tags": []
			}
		},
		{
			"cell_type": "code",
			"source": "# Convert Spark DataFrame to Glue DynamicFrame \ndyf_sunbird_tweets = DynamicFrame.fromDF(df_sunbird_tweets, glueContext)\n\n# Save result to Bronze layer - Tweets\ns3output = glueContext.getSink(\n  path=\"s3://tgsn-bronze/sunbird/x/tweets/\",\n  connection_type=\"s3\",\n  updateBehavior=\"UPDATE_IN_DATABASE\",\n  partitionKeys=['collection_date'],\n  compression=\"snappy\",\n  enableUpdateCatalog=True,\n  transformation_ctx=\"s3output\"\n)\ns3output.setCatalogInfo(\n  catalogDatabase=\"tgsn_bronze\", catalogTableName=\"sunbird_x_tweets\"\n)\ns3output.setFormat(\"glueparquet\")\ns3output.writeFrame(dyf_sunbird_tweets)",
			"metadata": {
				"trusted": true,
				"editable": true
			},
			"execution_count": 47,
			"outputs": [
				{
					"name": "stdout",
					"text": "<awsglue.dynamicframe.DynamicFrame object at 0x7fd0c16622c0>\n",
					"output_type": "stream"
				}
			]
		},
		{
			"cell_type": "code",
			"source": "# Convert Spark DataFrame to Glue DynamicFrame \ndyf_sunbird_users = DynamicFrame.fromDF(df_sunbird_users, glueContext)\n\n# Save result to Bronze layer - Users\ns3output = glueContext.getSink(\n  path=\"s3://tgsn-bronze/sunbird/x/users/\",\n  connection_type=\"s3\",\n  updateBehavior=\"UPDATE_IN_DATABASE\",\n  partitionKeys=['collection_date'],\n  compression=\"snappy\",\n  enableUpdateCatalog=True,\n  transformation_ctx=\"s3output\"\n)\ns3output.setCatalogInfo(\n  catalogDatabase=\"tgsn_bronze\", catalogTableName=\"sunbird_x_users\"\n)\ns3output.setFormat(\"glueparquet\")\ns3output.writeFrame(dyf_sunbird_users)",
			"metadata": {
				"trusted": true,
				"tags": []
			},
			"execution_count": 15,
			"outputs": [
				{
					"name": "stdout",
					"text": "<awsglue.dynamicframe.DynamicFrame object at 0x7fd0c1663640>\n",
					"output_type": "stream"
				}
			]
		},
		{
			"cell_type": "code",
			"source": "",
			"metadata": {},
			"execution_count": null,
			"outputs": []
		}
	]
}