{
	"metadata": {
		"kernelspec": {
			"name": "glue_pyspark",
			"display_name": "Glue PySpark",
			"language": "python"
		},
		"language_info": {
			"name": "Python_Glue_Session",
			"mimetype": "text/x-python",
			"codemirror_mode": {
				"name": "python",
				"version": 3
			},
			"pygments_lexer": "python3",
			"file_extension": ".py"
		}
	},
	"nbformat_minor": 4,
	"nbformat": 4,
	"cells": [
		{
			"cell_type": "markdown",
			"source": "# AWS Glue Studio Notebook\n##### You are now running a AWS Glue Studio notebook; To start using your notebook you need to start an AWS Glue Interactive Session.\n",
			"metadata": {
				"editable": true,
				"trusted": true
			}
		},
		{
			"cell_type": "markdown",
			"source": "####  Run this cell to set up and start your interactive session.\n",
			"metadata": {
				"editable": true,
				"trusted": true
			}
		},
		{
			"cell_type": "code",
			"source": "%idle_timeout 2880\n%glue_version 4.0\n%worker_type G.1X\n%number_of_workers 5\n\nimport sys\nfrom awsglue.transforms import *\nfrom awsglue.utils import getResolvedOptions\nfrom pyspark.context import SparkContext\nfrom awsglue.context import GlueContext\nfrom awsglue.job import Job\n\nfrom datetime import datetime\nimport pandas as pd\nfrom pyspark.sql.functions import to_timestamp, to_date, col, when, lit\nfrom awsglue.dynamicframe import DynamicFrame\n\nsc = SparkContext.getOrCreate()\nglueContext = GlueContext(sc)\nspark = glueContext.spark_session\njob = Job(glueContext)",
			"metadata": {
				"trusted": true,
				"editable": true
			},
			"execution_count": 1,
			"outputs": [
				{
					"name": "stdout",
					"text": "Welcome to the Glue Interactive Sessions Kernel\nFor more information on available magic commands, please type %help in any new cell.\n\nPlease view our Getting Started page to access the most up-to-date information on the Interactive Sessions kernel: https://docs.aws.amazon.com/glue/latest/dg/interactive-sessions.html\nInstalled kernel version: 1.0.7 \nCurrent idle_timeout is None minutes.\nidle_timeout has been set to 2880 minutes.\nSetting Glue version to: 4.0\nPrevious worker type: None\nSetting new worker type to: G.1X\nPrevious number of workers: None\nSetting new number of workers to: 5\nTrying to create a Glue session for the kernel.\nSession Type: glueetl\nWorker Type: G.1X\nNumber of Workers: 5\nIdle Timeout: 2880\nSession ID: fb53a4a0-6e02-45ab-a15a-231b33baa575\nApplying the following default arguments:\n--glue_kernel_version 1.0.7\n--enable-glue-datacatalog true\nWaiting for session fb53a4a0-6e02-45ab-a15a-231b33baa575 to get into ready status...\nSession fb53a4a0-6e02-45ab-a15a-231b33baa575 has been created.\n\n",
					"output_type": "stream"
				}
			]
		},
		{
			"cell_type": "code",
			"source": "# Read CSV files from KoBo landing layer\ndyf_sunbird_tweets_landing = glueContext.create_dynamic_frame.from_options(\n    format_options={\"quoteChar\": \"\\\"\", \"withHeader\": True, \"separator\": \",\"}, \n    connection_type=\"s3\", format=\"csv\", \n    connection_options={\"paths\": [\"s3://tgsn-landing/sunbird/x/tweets/\"], \"recurse\": True}, \n    transformation_ctx=\"dyf_kobo_landing\")\n",
			"metadata": {
				"trusted": true,
				"tags": []
			},
			"execution_count": 2,
			"outputs": [
				{
					"name": "stdout",
					"text": "\n",
					"output_type": "stream"
				}
			]
		},
		{
			"cell_type": "code",
			"source": "dyf_sunbird_tweets_landing.count()",
			"metadata": {
				"trusted": true,
				"tags": []
			},
			"execution_count": 3,
			"outputs": [
				{
					"name": "stdout",
					"text": "13041\n",
					"output_type": "stream"
				}
			]
		},
		{
			"cell_type": "code",
			"source": "dyf_sunbird_tweets_landing.printSchema()",
			"metadata": {
				"trusted": true,
				"tags": []
			},
			"execution_count": 4,
			"outputs": [
				{
					"name": "stdout",
					"text": "root\n|-- tweet_id: string\n|-- target: string\n|-- source: string\n|-- author_id: string\n|-- tag: string\n|-- keyword: string\n|-- created_at: string\n|-- location: string\n|-- tweet_content: string\n|-- edit_history_tweet_ids: string\n|-- edit_controls_is_edit_eligible: string\n|-- edit_controls_editable_until: string\n|-- edit_controls_edits_remaining: string\n|-- conversation_id: string\n|-- note_tweet_text: string\n|-- in_reply_to_user_id: string\n|-- referenced_tweet_ids: string\n|-- referenced_tweet_types: string\n|-- media_keys: string\n|-- poll_duration_minutes: string\n|-- poll_end: string\n|-- poll_ids: string\n|-- poll_options: string\n|-- poll_voting_status: string\n|-- geo_place_id: string\n|-- geo_coordinates: string\n|-- entities_hashtags: string\n|-- entities_urls: string\n|-- entities_mentions: string\n|-- withheld_copyright: string\n|-- withheld_country_codes: string\n|-- public_metrics_retweet_count: string\n|-- public_metrics_reply_count: string\n|-- public_metrics_like_count: string\n|-- public_metrics_quote_count: string\n|-- public_metrics_impression_count: string\n|-- public_metrics_bookmark_count: string\n|-- possibly_sensitive: string\n|-- lang: string\n|-- reply_settings: string\n|-- source_app: string\n|-- place_id: string\n|-- place_contained_within: string\n|-- place_country: string\n|-- place_country_code: string\n|-- place_full_name: string\n|-- place_geo: string\n|-- place_name: string\n|-- place_type: string\n",
					"output_type": "stream"
				}
			]
		},
		{
			"cell_type": "markdown",
			"source": "#### Convert the DynamicFrame to a Spark DataFrame\n",
			"metadata": {
				"editable": true,
				"trusted": true
			}
		},
		{
			"cell_type": "code",
			"source": "df_sunbird_tweets = dyf_sunbird_tweets_landing.toDF()",
			"metadata": {
				"trusted": true,
				"editable": true
			},
			"execution_count": 5,
			"outputs": [
				{
					"name": "stdout",
					"text": "/opt/amazon/spark/python/lib/pyspark.zip/pyspark/sql/dataframe.py:127: UserWarning: DataFrame constructor is internal. Do not directly use it.\n",
					"output_type": "stream"
				}
			]
		},
		{
			"cell_type": "code",
			"source": "df_sunbird_tweets.select(df_sunbird_tweets.columns[:7]).show()",
			"metadata": {
				"trusted": true,
				"tags": []
			},
			"execution_count": 6,
			"outputs": [
				{
					"name": "stdout",
					"text": "+-------------------+---------------+---------------+-------------------+-------+--------------------+--------------------+\n|           tweet_id|         target|         source|          author_id|    tag|             keyword|          created_at|\n+-------------------+---------------+---------------+-------------------+-------+--------------------+--------------------+\n|1856445136462377117|      lidialake|               |          541661569|       | \"Qatar\" (CherylW...|2024-11-12T21:13:...|\n|1856340465953517886|  BScharen95153|  CherylWroteIt|1806169910323650560|mention| \"Qatar\" (CherylW...|2024-11-12T14:17:...|\n|1856230702930391064|   berman_allen|  CherylWroteIt|         4229027320|mention| \"Qatar\" (CherylW...|2024-11-12T07:01:...|\n|1856166551818322170| ken_twindragon|   EarlChristy1|          415125689|retweet| \"Qatar\" (CherylW...|2024-11-12T02:46:...|\n|1856145340589846968|   isadoramay12|   MichealYerty|         2680119463|retweet| \"Qatar\" (CherylW...|2024-11-12T01:21:...|\n|1856145320855646575|   isadoramay12|   isadoramay12|         2680119463|retweet| \"Qatar\" (CherylW...|2024-11-12T01:21:...|\n|1856142707389018120|   QatarTracker|  CherylWroteIt|1842436083868692480|mention| \"Qatar\" (CherylW...|2024-11-12T01:11:...|\n|1856140389150814350|   MichealYerty|    t_sightseer|1294465544641536002|mention| \"Qatar\" (CherylW...|2024-11-12T01:02:...|\n|1856140066139021708|   MichealYerty|   isadoramay12|1294465544641536002|retweet| \"Qatar\" (CherylW...|2024-11-12T01:00:...|\n|1856133726775783858|   MichealYerty|       wziminer|1294465544641536002|retweet| \"Qatar\" (CherylW...|2024-11-12T00:35:...|\n|1856133008274665891|   MichealYerty|  CherylWroteIt|1294465544641536002|mention| \"Qatar\" (CherylW...|2024-11-12T00:32:...|\n|1856113103408075172|      Bagpipe11|   EarlChristy1|          436459353|retweet| \"Qatar\" (CherylW...|2024-11-11T23:13:...|\n|1856110731906687464|      padoma123|   EarlChristy1| 890497101507031040|retweet| \"Qatar\" (CherylW...|2024-11-11T23:04:...|\n|1856098962270290050|        chasfxb|   EarlChristy1|          175409063|retweet| \"Qatar\" (CherylW...|2024-11-11T22:17:...|\n|1856096637069693003|      MrymRhlys|   EarlChristy1|1599807760962654208|retweet| \"Qatar\" (CherylW...|2024-11-11T22:08:...|\n|1856061897746821403|   EarlChristy1|  CherylWroteIt|          418583711|mention| \"Qatar\" (CherylW...|2024-11-11T19:50:...|\n|1856002748791287981| XCheechWizardX|  CherylWroteIt|1716623511475703808|mention| \"Qatar\" (CherylW...|2024-11-11T15:55:...|\n|1855984304079224847|  MiguelSoiffer|_stopwhispering|         2994357604|retweet| \"Qatar\" (CherylW...|2024-11-11T14:41:...|\n|1855937740048593247|angelaescribano|_stopwhispering|          226165861|retweet| \"Qatar\" (CherylW...|2024-11-11T11:36:...|\n|1855912991201325184|rosa_mviva7Isra|_stopwhispering|1707205651196260352|retweet| \"Qatar\" (CherylW...|2024-11-11T09:58:...|\n+-------------------+---------------+---------------+-------------------+-------+--------------------+--------------------+\nonly showing top 20 rows\n",
					"output_type": "stream"
				}
			]
		},
		{
			"cell_type": "code",
			"source": "df_sunbird_tweets = df_sunbird_tweets.withColumn(\"collection_date\", lit(datetime.today().strftime('%Y-%m-%d')))",
			"metadata": {
				"trusted": true,
				"tags": []
			},
			"execution_count": 14,
			"outputs": [
				{
					"name": "stdout",
					"text": "\n",
					"output_type": "stream"
				}
			]
		},
		{
			"cell_type": "code",
			"source": "#spark_df_kobo_today = spark_df_kobo.where(spark_df_kobo['_submission_time_date'] >= datetime.today().strftime('%Y-%m-%d'))\n#spark_df_kobo_today = spark_df_kobo",
			"metadata": {
				"trusted": true,
				"tags": []
			},
			"execution_count": 6,
			"outputs": []
		},
		{
			"cell_type": "code",
			"source": "\nfor column in df_sunbird_tweets.columns:\n    df_sunbird_tweets = df_sunbird_tweets.withColumn(column, when(df_sunbird_tweets[f'{column}']=='' ,None).otherwise(df_sunbird_tweets[f'{column}']))",
			"metadata": {
				"trusted": true,
				"tags": []
			},
			"execution_count": 25,
			"outputs": [
				{
					"name": "stdout",
					"text": "\n",
					"output_type": "stream"
				}
			]
		},
		{
			"cell_type": "code",
			"source": "for column in df_sunbird_tweets.columns:\n    cnt = df_sunbird_tweets.where(df_sunbird_tweets[f'{column}'].isNotNull()).count()\n    print(f'Column: {column} - {cnt}')",
			"metadata": {
				"trusted": true,
				"tags": []
			},
			"execution_count": 26,
			"outputs": [
				{
					"name": "stdout",
					"text": "Column: tweet_id - 13041\nColumn: target - 13041\nColumn: source - 12875\nColumn: author_id - 13041\nColumn: tag - 12875\nColumn: keyword - 13041\nColumn: created_at - 13041\nColumn: location - 13041\nColumn: tweet_content - 13041\nColumn: edit_history_tweet_ids - 13041\nColumn: edit_controls_is_edit_eligible - 13041\nColumn: edit_controls_editable_until - 13041\nColumn: edit_controls_edits_remaining - 13041\nColumn: conversation_id - 13041\nColumn: note_tweet_text - 115\nColumn: in_reply_to_user_id - 1510\nColumn: referenced_tweet_ids - 13035\nColumn: referenced_tweet_types - 13035\nColumn: media_keys - 105\nColumn: poll_duration_minutes - 0\nColumn: poll_end - 0\nColumn: poll_ids - 0\nColumn: poll_options - 0\nColumn: poll_voting_status - 0\nColumn: geo_place_id - 10\nColumn: geo_coordinates - 0\nColumn: entities_hashtags - 69\nColumn: entities_urls - 530\nColumn: entities_mentions - 12874\nColumn: withheld_copyright - 0\nColumn: withheld_country_codes - 0\nColumn: public_metrics_retweet_count - 13041\nColumn: public_metrics_reply_count - 13041\nColumn: public_metrics_like_count - 13041\nColumn: public_metrics_quote_count - 13041\nColumn: public_metrics_impression_count - 13041\nColumn: public_metrics_bookmark_count - 13041\nColumn: possibly_sensitive - 13041\nColumn: lang - 13041\nColumn: reply_settings - 13041\nColumn: source_app - 0\nColumn: place_id - 10\nColumn: place_contained_within - 0\nColumn: place_country - 0\nColumn: place_country_code - 0\nColumn: place_full_name - 0\nColumn: place_geo - 13041\nColumn: place_name - 0\nColumn: place_type - 0\n",
					"output_type": "stream"
				}
			]
		},
		{
			"cell_type": "markdown",
			"source": "#### Write the data in the DynamicFrame to a location in Amazon S3 and a table for it in the AWS Glue Data Catalog",
			"metadata": {
				"tags": []
			}
		},
		{
			"cell_type": "code",
			"source": "# Convert Spark DataFrame to Glue DynamicFrame \ndyf_sunbird_tweets = DynamicFrame.fromDF(df_sunbird_tweets, glueContext)\n\ns3output = glueContext.getSink(\n  path=\"s3://tgsn-bronze/sunbird/x/tweets/\",\n  connection_type=\"s3\",\n  updateBehavior=\"UPDATE_IN_DATABASE\",\n  partitionKeys=['collection_date'],\n  compression=\"snappy\",\n  enableUpdateCatalog=True,\n  transformation_ctx=\"s3output\"\n)\ns3output.setCatalogInfo(\n  catalogDatabase=\"tgsn_bronze\", catalogTableName=\"sunbird_x_tweets\"\n)\ns3output.setFormat(\"glueparquet\")\ns3output.writeFrame(dyf_sunbird_tweets)",
			"metadata": {
				"trusted": true,
				"editable": true
			},
			"execution_count": 15,
			"outputs": [
				{
					"name": "stdout",
					"text": "<awsglue.dynamicframe.DynamicFrame object at 0x7fa644ba2e60>\n",
					"output_type": "stream"
				}
			]
		}
	]
}